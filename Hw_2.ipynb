{
 "cells": [
  {
   "cell_type": "code",
   "execution_count": 1,
   "id": "f21c12e9-c432-47cc-b00e-c4dfb2640063",
   "metadata": {},
   "outputs": [
    {
     "name": "stdout",
     "output_type": "stream",
     "text": [
      "Результати частини 1:\n",
      "Row(unit_id='83', count=4)\n"
     ]
    },
    {
     "name": "stdin",
     "output_type": "stream",
     "text": [
      "Press Enter to continue... \n"
     ]
    }
   ],
   "source": [
    "from pyspark.sql import SparkSession\n",
    "import webbrowser\n",
    "import time\n",
    "\n",
    "# Створюємо сесію Spark\n",
    "spark = SparkSession.builder \\\n",
    "    .master(\"local[*]\") \\\n",
    "    .config(\"spark.sql.shuffle.partitions\", \"2\") \\\n",
    "    .appName(\"MyGoitSparkSandbox\") \\\n",
    "    .getOrCreate()\n",
    "\n",
    "# Завантажуємо датасет\n",
    "nuek_df = spark.read \\\n",
    "    .option(\"header\", \"true\") \\\n",
    "    .option(\"inferSchema\", \"true\") \\\n",
    "    .csv('K:\\\\PowerBi\\\\Go IT Magistr\\\\12_Data Engineering\\\\hw_2\\\\nuek-vuh3.csv')\n",
    "\n",
    "# Репартиціюємо DataFrame\n",
    "nuek_repart = nuek_df.repartition(2)\n",
    "\n",
    "# Обробка даних\n",
    "nuek_processed = nuek_repart \\\n",
    "    .where(\"final_priority < 3\") \\\n",
    "    .select(\"unit_id\", \"final_priority\") \\\n",
    "    .groupBy(\"unit_id\") \\\n",
    "    .count()\n",
    "\n",
    "nuek_processed = nuek_processed.where(\"count > 2\")\n",
    "\n",
    "# Збір та відображення результатів\n",
    "result = nuek_processed.collect()\n",
    "print(\"Результати частини 1:\")\n",
    "for row in result:\n",
    "   print(row)\n",
    "\n",
    "# Відкриваємо Spark UI у браузері за замовчуванням\n",
    "webbrowser.open('http://localhost:4040')\n",
    "\n",
    "# Зупинка програми для продовження після натискання Enter\n",
    "input(\"Press Enter to continue...\")\n",
    "\n",
    "# Закриваємо сесію Spark\n",
    "spark.stop()\n",
    "\n",
    "\n"
   ]
  },
  {
   "cell_type": "code",
   "execution_count": 3,
   "id": "18e2acbe-e568-4333-99df-a39d32265a14",
   "metadata": {},
   "outputs": [
    {
     "name": "stdin",
     "output_type": "stream",
     "text": [
      "Press Enter to continue... \n"
     ]
    }
   ],
   "source": [
    "from pyspark.sql import SparkSession\n",
    "import webbrowser\n",
    "import time\n",
    "\n",
    "# Створюємо сесію Spark\n",
    "spark = SparkSession.builder \\\n",
    "    .master(\"local[*]\") \\\n",
    "    .config(\"spark.sql.shuffle.partitions\", \"2\") \\\n",
    "    .appName(\"MyGoitSparkSandbox\") \\\n",
    "    .getOrCreate()\n",
    "\n",
    "# Завантажуємо датасет\n",
    "nuek_df = spark.read \\\n",
    "    .option(\"header\", \"true\") \\\n",
    "    .option(\"inferSchema\", \"true\") \\\n",
    "    .csv('K:\\\\PowerBi\\\\Go IT Magistr\\\\12_Data Engineering\\\\hw_2\\\\nuek-vuh3.csv')\n",
    "\n",
    "\n",
    "nuek_repart = nuek_df.repartition(2)\n",
    "\n",
    "# Обробка даних\n",
    "nuek_processed = nuek_repart \\\n",
    "    .where(\"final_priority < 3\") \\\n",
    "    .select(\"unit_id\", \"final_priority\") \\\n",
    "    .groupBy(\"unit_id\") \\\n",
    "    .count()\n",
    "\n",
    "# Проміжний action: collect\n",
    "nuek_processed.collect()\n",
    "\n",
    "# Ось ТУТ додано рядок\n",
    "nuek_processed = nuek_processed.where(\"count>2\")\n",
    "\n",
    "nuek_processed.collect()\n",
    "\n",
    "# Відкриваємо Spark UI у браузері за замовчуванням\n",
    "webbrowser.open('http://localhost:4040')\n",
    "\n",
    "# Зупинка програми для продовження після натискання Enter\n",
    "input(\"Press Enter to continue...\")\n",
    "\n",
    "# Закриваємо сесію Spark\n",
    "spark.stop()\n"
   ]
  },
  {
   "cell_type": "code",
   "execution_count": 4,
   "id": "4cfbdb31-adea-40b7-906f-f2283060bece",
   "metadata": {},
   "outputs": [
    {
     "name": "stdin",
     "output_type": "stream",
     "text": [
      "Press Enter to continue...5 \n"
     ]
    }
   ],
   "source": [
    "from pyspark.sql import SparkSession\n",
    "\n",
    "# Створюємо сесію Spark\n",
    "spark = SparkSession.builder \\\n",
    "    .master(\"local[*]\") \\\n",
    "    .config(\"spark.sql.shuffle.partitions\", \"2\") \\\n",
    "    .appName(\"MyGoitSparkSandbox\") \\\n",
    "    .getOrCreate()\n",
    "\n",
    "# Завантажуємо датасет\n",
    "nuek_df = spark.read \\\n",
    "    .option(\"header\", \"true\") \\\n",
    "    .option(\"inferSchema\", \"true\") \\\n",
    "    .csv('K:\\\\PowerBi\\\\Go IT Magistr\\\\12_Data Engineering\\\\hw_2\\\\nuek-vuh3.csv')\n",
    "\n",
    "nuek_repart = nuek_df.repartition(2)\n",
    "\n",
    "nuek_processed_cached = nuek_repart \\\n",
    "    .where(\"final_priority < 3\") \\\n",
    "    .select(\"unit_id\", \"final_priority\") \\\n",
    "    .groupBy(\"unit_id\") \\\n",
    "    .count() \\\n",
    "    .cache()  # Додано функцію cache\n",
    "\n",
    "# Проміжний action: collect\n",
    "nuek_processed_cached.collect()\n",
    "\n",
    "# Ось ТУТ додано рядок\n",
    "nuek_processed = nuek_processed_cached.where(\"count>2\")\n",
    "\n",
    "nuek_processed.collect()\n",
    "\n",
    "# Відкриваємо Spark UI у браузері за замовчуванням\n",
    "webbrowser.open('http://localhost:4040')\n",
    "\n",
    "input(\"Press Enter to continue...5\")\n",
    "\n",
    "# Звільняємо пям'ять від Dataframe\n",
    "nuek_processed_cached.unpersist()\n",
    "\n",
    "# Закриваємо сесію Spark\n",
    "spark.stop()\n"
   ]
  },
  {
   "cell_type": "code",
   "execution_count": null,
   "id": "2a63cd15-29c1-40bf-925a-745b1d4f05ee",
   "metadata": {},
   "outputs": [],
   "source": []
  }
 ],
 "metadata": {
  "kernelspec": {
   "display_name": "Python 3 (Spyder)",
   "language": "python3",
   "name": "python3"
  },
  "language_info": {
   "codemirror_mode": {
    "name": "ipython",
    "version": 3
   },
   "file_extension": ".py",
   "mimetype": "text/x-python",
   "name": "python",
   "nbconvert_exporter": "python",
   "pygments_lexer": "ipython3",
   "version": "3.11.9"
  }
 },
 "nbformat": 4,
 "nbformat_minor": 5
}
